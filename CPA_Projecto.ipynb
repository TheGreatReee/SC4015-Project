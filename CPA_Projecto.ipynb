{
 "cells": [
  {
   "cell_type": "markdown",
   "id": "00413942",
   "metadata": {},
   "source": [
    "# SC4172 Project - Correlation Power Analysis"
   ]
  },
  {
   "cell_type": "code",
   "execution_count": 50,
   "id": "e87407ee",
   "metadata": {},
   "outputs": [],
   "source": [
    "import numpy as np\n",
    "import pandas as pd\n",
    "import seaborn\n",
    "import scipy\n",
    "import random\n",
    "from scipy.stats import pearsonr\n",
    "import matplotlib.pyplot as plot"
   ]
  },
  {
   "cell_type": "markdown",
   "id": "7b493e3e",
   "metadata": {},
   "source": [
    "## Prerequisite Functions \n"
   ]
  },
  {
   "cell_type": "code",
   "execution_count": 51,
   "id": "8107c4e5",
   "metadata": {},
   "outputs": [],
   "source": [
    "# AES S-box\n",
    "Sbox = [\n",
    "    0x63, 0x7C, 0x77, 0x7B, 0xF2, 0x6B, 0x6F, 0xC5, 0x30, 0x01, 0x67, 0x2B, 0xFE, 0xD7, 0xAB, 0x76,\n",
    "    0xCA, 0x82, 0xC9, 0x7D, 0xFA, 0x59, 0x47, 0xF0, 0xAD, 0xD4, 0xA2, 0xAF, 0x9C, 0xA4, 0x72, 0xC0,\n",
    "    0xB7, 0xFD, 0x93, 0x26, 0x36, 0x3F, 0xF7, 0xCC, 0x34, 0xA5, 0xE5, 0xF1, 0x71, 0xD8, 0x31, 0x15,\n",
    "    0x04, 0xC7, 0x23, 0xC3, 0x18, 0x96, 0x05, 0x9A, 0x07, 0x12, 0x80, 0xE2, 0xEB, 0x27, 0xB2, 0x75,\n",
    "    0x09, 0x83, 0x2C, 0x1A, 0x1B, 0x6E, 0x5A, 0xA0, 0x52, 0x3B, 0xD6, 0xB3, 0x29, 0xE3, 0x2F, 0x84,\n",
    "    0x53, 0xD1, 0x00, 0xED, 0x20, 0xFC, 0xB1, 0x5B, 0x6A, 0xCB, 0xBE, 0x39, 0x4A, 0x4C, 0x58, 0xCF,\n",
    "    0xD0, 0xEF, 0xAA, 0xFB, 0x43, 0x4D, 0x33, 0x85, 0x45, 0xF9, 0x02, 0x7F, 0x50, 0x3C, 0x9F, 0xA8,\n",
    "    0x51, 0xA3, 0x40, 0x8F, 0x92, 0x9D, 0x38, 0xF5, 0xBC, 0xB6, 0xDA, 0x21, 0x10, 0xFF, 0xF3, 0xD2,\n",
    "    0xCD, 0x0C, 0x13, 0xEC, 0x5F, 0x97, 0x44, 0x17, 0xC4, 0xA7, 0x7E, 0x3D, 0x64, 0x5D, 0x19, 0x73,\n",
    "    0x60, 0x81, 0x4F, 0xDC, 0x22, 0x2A, 0x90, 0x88, 0x46, 0xEE, 0xB8, 0x14, 0xDE, 0x5E, 0x0B, 0xDB,\n",
    "    0xE0, 0x32, 0x3A, 0x0A, 0x49, 0x06, 0x24, 0x5C, 0xC2, 0xD3, 0xAC, 0x62, 0x91, 0x95, 0xE4, 0x79,\n",
    "    0xE7, 0xC8, 0x37, 0x6D, 0x8D, 0xD5, 0x4E, 0xA9, 0x6C, 0x56, 0xF4, 0xEA, 0x65, 0x7A, 0xAE, 0x08,\n",
    "    0xBA, 0x78, 0x25, 0x2E, 0x1C, 0xA6, 0xB4, 0xC6, 0xE8, 0xDD, 0x74, 0x1F, 0x4B, 0xBD, 0x8B, 0x8A,\n",
    "    0x70, 0x3E, 0xB5, 0x66, 0x48, 0x03, 0xF6, 0x0E, 0x61, 0x35, 0x57, 0xB9, 0x86, 0xC1, 0x1D, 0x9E,\n",
    "    0xE1, 0xF8, 0x98, 0x11, 0x69, 0xD9, 0x8E, 0x94, 0x9B, 0x1E, 0x87, 0xE9, 0xCE, 0x55, 0x28, 0xDF,\n",
    "    0x8C, 0xA1, 0x89, 0x0D, 0xBF, 0xE6, 0x42, 0x68, 0x41, 0x99, 0x2D, 0x0F, 0xB0, 0x54, 0xBB, 0x16,\n",
    "]"
   ]
  },
  {
   "cell_type": "code",
   "execution_count": 52,
   "id": "44a94427",
   "metadata": {},
   "outputs": [],
   "source": [
    "# We set the number of traces to be used to be 100\n",
    "no_of_traces = 100\n",
    "\n",
    "# Code for calculating the hamming weight of the Sbox output\n",
    "def hw(int_no):\n",
    "    # Write Code to calculate the number of ones in a byte...\n",
    "    c = 0\n",
    "    while(int_no):\n",
    "        int_no &= (int_no - 1)\n",
    "        c += 1\n",
    "    return c"
   ]
  },
  {
   "cell_type": "markdown",
   "id": "a9ad8ac7",
   "metadata": {},
   "source": [
    "## Data Preparation"
   ]
  },
  {
   "cell_type": "code",
   "execution_count": 53,
   "id": "74dc62af",
   "metadata": {},
   "outputs": [
    {
     "data": {
      "text/html": [
       "<div>\n",
       "<style scoped>\n",
       "    .dataframe tbody tr th:only-of-type {\n",
       "        vertical-align: middle;\n",
       "    }\n",
       "\n",
       "    .dataframe tbody tr th {\n",
       "        vertical-align: top;\n",
       "    }\n",
       "\n",
       "    .dataframe thead th {\n",
       "        text-align: right;\n",
       "    }\n",
       "</style>\n",
       "<table border=\"1\" class=\"dataframe\">\n",
       "  <thead>\n",
       "    <tr style=\"text-align: right;\">\n",
       "      <th></th>\n",
       "      <th>Plaintext</th>\n",
       "      <th>Ciphertext</th>\n",
       "      <th>Unnamed: 2</th>\n",
       "      <th>Unnamed: 3</th>\n",
       "      <th>Unnamed: 4</th>\n",
       "      <th>Unnamed: 5</th>\n",
       "      <th>Unnamed: 6</th>\n",
       "      <th>Unnamed: 7</th>\n",
       "      <th>Unnamed: 8</th>\n",
       "      <th>Unnamed: 9</th>\n",
       "      <th>...</th>\n",
       "      <th>Unnamed: 2492</th>\n",
       "      <th>Unnamed: 2493</th>\n",
       "      <th>Unnamed: 2494</th>\n",
       "      <th>Unnamed: 2495</th>\n",
       "      <th>Unnamed: 2496</th>\n",
       "      <th>Unnamed: 2497</th>\n",
       "      <th>Unnamed: 2498</th>\n",
       "      <th>Unnamed: 2499</th>\n",
       "      <th>Unnamed: 2500</th>\n",
       "      <th>Unnamed: 2501</th>\n",
       "    </tr>\n",
       "  </thead>\n",
       "  <tbody>\n",
       "    <tr>\n",
       "      <th>0</th>\n",
       "      <td>F22E10CA18045B15EC056215AF1E2FEE</td>\n",
       "      <td>6C4A1DE1148387B5645308323C59B7D6</td>\n",
       "      <td>0.478</td>\n",
       "      <td>0.456</td>\n",
       "      <td>0.416</td>\n",
       "      <td>0.436</td>\n",
       "      <td>0.398</td>\n",
       "      <td>0.380</td>\n",
       "      <td>0.422</td>\n",
       "      <td>0.482</td>\n",
       "      <td>...</td>\n",
       "      <td>0.402</td>\n",
       "      <td>0.362</td>\n",
       "      <td>0.358</td>\n",
       "      <td>0.404</td>\n",
       "      <td>0.400</td>\n",
       "      <td>0.370</td>\n",
       "      <td>0.398</td>\n",
       "      <td>0.360</td>\n",
       "      <td>0.352</td>\n",
       "      <td>0.416</td>\n",
       "    </tr>\n",
       "    <tr>\n",
       "      <th>1</th>\n",
       "      <td>00A51770A9A1269514B004D1A17489BF</td>\n",
       "      <td>BFE9B87BBB844AAE58765079F672CD61</td>\n",
       "      <td>0.460</td>\n",
       "      <td>0.470</td>\n",
       "      <td>0.444</td>\n",
       "      <td>0.464</td>\n",
       "      <td>0.430</td>\n",
       "      <td>0.386</td>\n",
       "      <td>0.422</td>\n",
       "      <td>0.460</td>\n",
       "      <td>...</td>\n",
       "      <td>0.406</td>\n",
       "      <td>0.374</td>\n",
       "      <td>0.348</td>\n",
       "      <td>0.408</td>\n",
       "      <td>0.400</td>\n",
       "      <td>0.364</td>\n",
       "      <td>0.400</td>\n",
       "      <td>0.370</td>\n",
       "      <td>0.350</td>\n",
       "      <td>0.394</td>\n",
       "    </tr>\n",
       "    <tr>\n",
       "      <th>2</th>\n",
       "      <td>7A3B778B2CE9AC3DFFBA500F84868DE7</td>\n",
       "      <td>8E6B3D1DF403BF01CEFCAD50DD34173C</td>\n",
       "      <td>0.438</td>\n",
       "      <td>0.446</td>\n",
       "      <td>0.414</td>\n",
       "      <td>0.450</td>\n",
       "      <td>0.402</td>\n",
       "      <td>0.372</td>\n",
       "      <td>0.416</td>\n",
       "      <td>0.456</td>\n",
       "      <td>...</td>\n",
       "      <td>0.410</td>\n",
       "      <td>0.380</td>\n",
       "      <td>0.354</td>\n",
       "      <td>0.396</td>\n",
       "      <td>0.398</td>\n",
       "      <td>0.368</td>\n",
       "      <td>0.410</td>\n",
       "      <td>0.378</td>\n",
       "      <td>0.354</td>\n",
       "      <td>0.396</td>\n",
       "    </tr>\n",
       "    <tr>\n",
       "      <th>3</th>\n",
       "      <td>463015576F33A2BCBC991B6D37C9AFBF</td>\n",
       "      <td>E1F96AB155DC977F7DA27E1E461E2613</td>\n",
       "      <td>0.484</td>\n",
       "      <td>0.458</td>\n",
       "      <td>0.430</td>\n",
       "      <td>0.434</td>\n",
       "      <td>0.410</td>\n",
       "      <td>0.380</td>\n",
       "      <td>0.434</td>\n",
       "      <td>0.458</td>\n",
       "      <td>...</td>\n",
       "      <td>0.394</td>\n",
       "      <td>0.356</td>\n",
       "      <td>0.358</td>\n",
       "      <td>0.394</td>\n",
       "      <td>0.392</td>\n",
       "      <td>0.376</td>\n",
       "      <td>0.384</td>\n",
       "      <td>0.372</td>\n",
       "      <td>0.342</td>\n",
       "      <td>0.430</td>\n",
       "    </tr>\n",
       "    <tr>\n",
       "      <th>4</th>\n",
       "      <td>0F0165AA74B57F97E8A11F802732AAF9</td>\n",
       "      <td>45208B01DF3A6D9E42E0156BFC08EC24</td>\n",
       "      <td>0.472</td>\n",
       "      <td>0.470</td>\n",
       "      <td>0.444</td>\n",
       "      <td>0.456</td>\n",
       "      <td>0.406</td>\n",
       "      <td>0.396</td>\n",
       "      <td>0.426</td>\n",
       "      <td>0.450</td>\n",
       "      <td>...</td>\n",
       "      <td>0.404</td>\n",
       "      <td>0.380</td>\n",
       "      <td>0.344</td>\n",
       "      <td>0.392</td>\n",
       "      <td>0.390</td>\n",
       "      <td>0.372</td>\n",
       "      <td>0.414</td>\n",
       "      <td>0.368</td>\n",
       "      <td>0.346</td>\n",
       "      <td>0.396</td>\n",
       "    </tr>\n",
       "    <tr>\n",
       "      <th>...</th>\n",
       "      <td>...</td>\n",
       "      <td>...</td>\n",
       "      <td>...</td>\n",
       "      <td>...</td>\n",
       "      <td>...</td>\n",
       "      <td>...</td>\n",
       "      <td>...</td>\n",
       "      <td>...</td>\n",
       "      <td>...</td>\n",
       "      <td>...</td>\n",
       "      <td>...</td>\n",
       "      <td>...</td>\n",
       "      <td>...</td>\n",
       "      <td>...</td>\n",
       "      <td>...</td>\n",
       "      <td>...</td>\n",
       "      <td>...</td>\n",
       "      <td>...</td>\n",
       "      <td>...</td>\n",
       "      <td>...</td>\n",
       "      <td>...</td>\n",
       "    </tr>\n",
       "    <tr>\n",
       "      <th>95</th>\n",
       "      <td>034177FD2F54E8B44D2928209F68CC3F</td>\n",
       "      <td>9F5C7CF2753E403CC7876511163A7C9C</td>\n",
       "      <td>0.442</td>\n",
       "      <td>0.430</td>\n",
       "      <td>0.400</td>\n",
       "      <td>0.432</td>\n",
       "      <td>0.392</td>\n",
       "      <td>0.366</td>\n",
       "      <td>0.408</td>\n",
       "      <td>0.460</td>\n",
       "      <td>...</td>\n",
       "      <td>0.406</td>\n",
       "      <td>0.350</td>\n",
       "      <td>0.362</td>\n",
       "      <td>0.392</td>\n",
       "      <td>0.392</td>\n",
       "      <td>0.344</td>\n",
       "      <td>0.394</td>\n",
       "      <td>0.366</td>\n",
       "      <td>0.342</td>\n",
       "      <td>0.406</td>\n",
       "    </tr>\n",
       "    <tr>\n",
       "      <th>96</th>\n",
       "      <td>876B10FCA9BCD6EB7C8D8F8B8DE469E2</td>\n",
       "      <td>67A99EACFB8796DE11082EC35C80BC4B</td>\n",
       "      <td>0.494</td>\n",
       "      <td>0.464</td>\n",
       "      <td>0.436</td>\n",
       "      <td>0.450</td>\n",
       "      <td>0.428</td>\n",
       "      <td>0.384</td>\n",
       "      <td>0.430</td>\n",
       "      <td>0.472</td>\n",
       "      <td>...</td>\n",
       "      <td>0.392</td>\n",
       "      <td>0.366</td>\n",
       "      <td>0.354</td>\n",
       "      <td>0.404</td>\n",
       "      <td>0.386</td>\n",
       "      <td>0.366</td>\n",
       "      <td>0.388</td>\n",
       "      <td>0.372</td>\n",
       "      <td>0.346</td>\n",
       "      <td>0.422</td>\n",
       "    </tr>\n",
       "    <tr>\n",
       "      <th>97</th>\n",
       "      <td>0B96A9FB2324C321ABF2F5F67B600584</td>\n",
       "      <td>947EF54A3D15A33A7FB35F1C68417B93</td>\n",
       "      <td>0.440</td>\n",
       "      <td>0.464</td>\n",
       "      <td>0.440</td>\n",
       "      <td>0.458</td>\n",
       "      <td>0.428</td>\n",
       "      <td>0.390</td>\n",
       "      <td>0.416</td>\n",
       "      <td>0.458</td>\n",
       "      <td>...</td>\n",
       "      <td>0.406</td>\n",
       "      <td>0.364</td>\n",
       "      <td>0.346</td>\n",
       "      <td>0.400</td>\n",
       "      <td>0.384</td>\n",
       "      <td>0.374</td>\n",
       "      <td>0.392</td>\n",
       "      <td>0.362</td>\n",
       "      <td>0.346</td>\n",
       "      <td>0.372</td>\n",
       "    </tr>\n",
       "    <tr>\n",
       "      <th>98</th>\n",
       "      <td>4A1A8BA61372C2B3DDB3BDB866EF438F</td>\n",
       "      <td>79FEC2829DEDF9D5BFDACB5E6A323367</td>\n",
       "      <td>0.476</td>\n",
       "      <td>0.454</td>\n",
       "      <td>0.428</td>\n",
       "      <td>0.436</td>\n",
       "      <td>0.416</td>\n",
       "      <td>0.378</td>\n",
       "      <td>0.426</td>\n",
       "      <td>0.486</td>\n",
       "      <td>...</td>\n",
       "      <td>0.386</td>\n",
       "      <td>0.362</td>\n",
       "      <td>0.356</td>\n",
       "      <td>0.394</td>\n",
       "      <td>0.384</td>\n",
       "      <td>0.366</td>\n",
       "      <td>0.392</td>\n",
       "      <td>0.358</td>\n",
       "      <td>0.338</td>\n",
       "      <td>0.398</td>\n",
       "    </tr>\n",
       "    <tr>\n",
       "      <th>99</th>\n",
       "      <td>CE4524A68DD9AFE90C182423546BE031</td>\n",
       "      <td>552CF0B806C06B79B7571BE61104F5B1</td>\n",
       "      <td>0.468</td>\n",
       "      <td>0.462</td>\n",
       "      <td>0.418</td>\n",
       "      <td>0.442</td>\n",
       "      <td>0.416</td>\n",
       "      <td>0.384</td>\n",
       "      <td>0.422</td>\n",
       "      <td>0.464</td>\n",
       "      <td>...</td>\n",
       "      <td>0.402</td>\n",
       "      <td>0.364</td>\n",
       "      <td>0.344</td>\n",
       "      <td>0.396</td>\n",
       "      <td>0.392</td>\n",
       "      <td>0.350</td>\n",
       "      <td>0.392</td>\n",
       "      <td>0.362</td>\n",
       "      <td>0.344</td>\n",
       "      <td>0.400</td>\n",
       "    </tr>\n",
       "  </tbody>\n",
       "</table>\n",
       "<p>100 rows × 2502 columns</p>\n",
       "</div>"
      ],
      "text/plain": [
       "                           Plaintext                        Ciphertext   \n",
       "0   F22E10CA18045B15EC056215AF1E2FEE  6C4A1DE1148387B5645308323C59B7D6  \\\n",
       "1   00A51770A9A1269514B004D1A17489BF  BFE9B87BBB844AAE58765079F672CD61   \n",
       "2   7A3B778B2CE9AC3DFFBA500F84868DE7  8E6B3D1DF403BF01CEFCAD50DD34173C   \n",
       "3   463015576F33A2BCBC991B6D37C9AFBF  E1F96AB155DC977F7DA27E1E461E2613   \n",
       "4   0F0165AA74B57F97E8A11F802732AAF9  45208B01DF3A6D9E42E0156BFC08EC24   \n",
       "..                               ...                               ...   \n",
       "95  034177FD2F54E8B44D2928209F68CC3F  9F5C7CF2753E403CC7876511163A7C9C   \n",
       "96  876B10FCA9BCD6EB7C8D8F8B8DE469E2  67A99EACFB8796DE11082EC35C80BC4B   \n",
       "97  0B96A9FB2324C321ABF2F5F67B600584  947EF54A3D15A33A7FB35F1C68417B93   \n",
       "98  4A1A8BA61372C2B3DDB3BDB866EF438F  79FEC2829DEDF9D5BFDACB5E6A323367   \n",
       "99  CE4524A68DD9AFE90C182423546BE031  552CF0B806C06B79B7571BE61104F5B1   \n",
       "\n",
       "    Unnamed: 2  Unnamed: 3  Unnamed: 4  Unnamed: 5  Unnamed: 6  Unnamed: 7   \n",
       "0        0.478       0.456       0.416       0.436       0.398       0.380  \\\n",
       "1        0.460       0.470       0.444       0.464       0.430       0.386   \n",
       "2        0.438       0.446       0.414       0.450       0.402       0.372   \n",
       "3        0.484       0.458       0.430       0.434       0.410       0.380   \n",
       "4        0.472       0.470       0.444       0.456       0.406       0.396   \n",
       "..         ...         ...         ...         ...         ...         ...   \n",
       "95       0.442       0.430       0.400       0.432       0.392       0.366   \n",
       "96       0.494       0.464       0.436       0.450       0.428       0.384   \n",
       "97       0.440       0.464       0.440       0.458       0.428       0.390   \n",
       "98       0.476       0.454       0.428       0.436       0.416       0.378   \n",
       "99       0.468       0.462       0.418       0.442       0.416       0.384   \n",
       "\n",
       "    Unnamed: 8  Unnamed: 9  ...  Unnamed: 2492  Unnamed: 2493  Unnamed: 2494   \n",
       "0        0.422       0.482  ...          0.402          0.362          0.358  \\\n",
       "1        0.422       0.460  ...          0.406          0.374          0.348   \n",
       "2        0.416       0.456  ...          0.410          0.380          0.354   \n",
       "3        0.434       0.458  ...          0.394          0.356          0.358   \n",
       "4        0.426       0.450  ...          0.404          0.380          0.344   \n",
       "..         ...         ...  ...            ...            ...            ...   \n",
       "95       0.408       0.460  ...          0.406          0.350          0.362   \n",
       "96       0.430       0.472  ...          0.392          0.366          0.354   \n",
       "97       0.416       0.458  ...          0.406          0.364          0.346   \n",
       "98       0.426       0.486  ...          0.386          0.362          0.356   \n",
       "99       0.422       0.464  ...          0.402          0.364          0.344   \n",
       "\n",
       "    Unnamed: 2495  Unnamed: 2496  Unnamed: 2497  Unnamed: 2498  Unnamed: 2499   \n",
       "0           0.404          0.400          0.370          0.398          0.360  \\\n",
       "1           0.408          0.400          0.364          0.400          0.370   \n",
       "2           0.396          0.398          0.368          0.410          0.378   \n",
       "3           0.394          0.392          0.376          0.384          0.372   \n",
       "4           0.392          0.390          0.372          0.414          0.368   \n",
       "..            ...            ...            ...            ...            ...   \n",
       "95          0.392          0.392          0.344          0.394          0.366   \n",
       "96          0.404          0.386          0.366          0.388          0.372   \n",
       "97          0.400          0.384          0.374          0.392          0.362   \n",
       "98          0.394          0.384          0.366          0.392          0.358   \n",
       "99          0.396          0.392          0.350          0.392          0.362   \n",
       "\n",
       "    Unnamed: 2500  Unnamed: 2501  \n",
       "0           0.352          0.416  \n",
       "1           0.350          0.394  \n",
       "2           0.354          0.396  \n",
       "3           0.342          0.430  \n",
       "4           0.346          0.396  \n",
       "..            ...            ...  \n",
       "95          0.342          0.406  \n",
       "96          0.346          0.422  \n",
       "97          0.346          0.372  \n",
       "98          0.338          0.398  \n",
       "99          0.344          0.400  \n",
       "\n",
       "[100 rows x 2502 columns]"
      ]
     },
     "execution_count": 53,
     "metadata": {},
     "output_type": "execute_result"
    }
   ],
   "source": [
    "# Prior to reading the CSV file, the CSV file is slightly editted\n",
    "# 1) Add a row to the top\n",
    "# 2) Remove any samples below index 100. This ensure that we work with only 100 samples\n",
    "\n",
    "# Read the CSV file\n",
    "df = pd.read_csv(\"waveform.csv\")\n",
    "\n",
    "df"
   ]
  },
  {
   "cell_type": "code",
   "execution_count": 54,
   "id": "abc01540",
   "metadata": {},
   "outputs": [
    {
     "data": {
      "text/plain": [
       "'F22E10CA18045B15EC056215AF1E2FEE'"
      ]
     },
     "execution_count": 54,
     "metadata": {},
     "output_type": "execute_result"
    }
   ],
   "source": [
    "# Extract the contents of the Plaintext and append them to an array\n",
    "data_arr = df[\"Plaintext\"].to_numpy()\n",
    "\n",
    "len(data_arr)\n",
    "data_arr[0]"
   ]
  },
  {
   "cell_type": "code",
   "execution_count": 55,
   "id": "32cc3417",
   "metadata": {},
   "outputs": [
    {
     "name": "stdout",
     "output_type": "stream",
     "text": [
      "First Byte of the first Plaintext: 242  / 0xf2\n"
     ]
    }
   ],
   "source": [
    "# Extract the first byte of the plaintext into an array\n",
    "first_bytes = []\n",
    "for i in range(0, len(data_arr)):\n",
    "    first_bytes.append(int(data_arr[i][:2], 16))\n",
    "\n",
    "print(f\"First Byte of the first Plaintext: {first_bytes[0]}  / {hex(first_bytes[0])}\")"
   ]
  },
  {
   "cell_type": "markdown",
   "id": "2d75e204",
   "metadata": {},
   "source": [
    "## Testing basic functions"
   ]
  },
  {
   "cell_type": "code",
   "execution_count": 56,
   "id": "8ca6f057",
   "metadata": {},
   "outputs": [
    {
     "data": {
      "text/plain": [
       "181"
      ]
     },
     "execution_count": 56,
     "metadata": {},
     "output_type": "execute_result"
    }
   ],
   "source": [
    "# As a sanity check, we will first set the key to 0x20\n",
    "k = 0x20\n",
    "leaky_sbox_output_value_array = []\n",
    "\n",
    "#\n",
    "for byte_pos in range(0,no_of_traces):\n",
    "    byte_now = first_bytes[byte_pos] ^ k\n",
    "    Sbox_output_leaky_value = Sbox[byte_now]\n",
    "    leaky_sbox_output_value_array.append(Sbox_output_leaky_value)\n",
    "\n",
    "# 0x20 XOR 0xF2 = 0xD2\n",
    "# Looking at the sbox, the corresponding substituition for 0xD2 would be 0xB5 = 181\n",
    "# We can check this output by printing out this first element\n",
    "leaky_sbox_output_value_array[0]"
   ]
  },
  {
   "cell_type": "code",
   "execution_count": 57,
   "id": "34f9780b",
   "metadata": {},
   "outputs": [],
   "source": [
    "# Caculate the Hamming Weight\n",
    "hamming_weight_of_leaky_sbox_bytes = []\n",
    "\n",
    "for byte in range(0,no_of_traces):\n",
    "    hamming_weight_of_leaky_sbox_bytes.append(hw(leaky_sbox_output_value_array[byte]))\n",
    "\n",
    "#hamming_weight_of_leaky_sbox_bytes"
   ]
  },
  {
   "cell_type": "code",
   "execution_count": 58,
   "id": "4996da20",
   "metadata": {},
   "outputs": [],
   "source": [
    "# With the Sbox Substituition function and Hamming Weight Computation working, we then bruteforce all 256 combinations of the key\n",
    "# This nets us a power matrix model\n",
    "\n",
    "no_of_possible_values_of_key_byte = 256\n",
    "power_model_matrix = [[]]*no_of_possible_values_of_key_byte\n",
    "\n",
    "for key_byte_guess in range(0,no_of_possible_values_of_key_byte):\n",
    "    k = key_byte_guess\n",
    "\n",
    "    leaky_sbox_output_value_array = []\n",
    "    for byte_pos in range(0,no_of_traces):\n",
    "        byte_now = first_bytes[byte_pos] ^ k\n",
    "        Sbox_output_leaky_value = Sbox[byte_now]\n",
    "        leaky_sbox_output_value_array.append(Sbox_output_leaky_value)\n",
    "\n",
    "    hamming_weight_of_leaky_sbox_bytes = []\n",
    "    for byte in range(0,no_of_traces):\n",
    "        hamming_weight_of_leaky_sbox_bytes.append(hw(leaky_sbox_output_value_array[byte]))\n",
    "\n",
    "    power_model_matrix[key_byte_guess] = hamming_weight_of_leaky_sbox_bytes\n",
    "\n",
    "#power_model_matrix[0]"
   ]
  },
  {
   "cell_type": "markdown",
   "id": "bbc12250",
   "metadata": {},
   "source": [
    "## Computing Correlation Values for First Sample"
   ]
  },
  {
   "cell_type": "code",
   "execution_count": 59,
   "id": "522e2012",
   "metadata": {},
   "outputs": [
    {
     "data": {
      "text/plain": [
       "array([0.478, 0.46 , 0.438, 0.484, 0.472, 0.48 , 0.46 , 0.484, 0.46 ,\n",
       "       0.402, 0.476, 0.484, 0.484, 0.474, 0.476, 0.43 , 0.46 , 0.48 ,\n",
       "       0.416, 0.438, 0.482, 0.43 , 0.466, 0.41 , 0.462, 0.486, 0.464,\n",
       "       0.482, 0.436, 0.43 , 0.468, 0.48 , 0.468, 0.402, 0.448, 0.48 ,\n",
       "       0.434, 0.464, 0.442, 0.418, 0.444, 0.472, 0.414, 0.492, 0.41 ,\n",
       "       0.468, 0.466, 0.416, 0.428, 0.46 , 0.42 , 0.444, 0.458, 0.44 ,\n",
       "       0.42 , 0.462, 0.484, 0.426, 0.448, 0.476, 0.448, 0.446, 0.452,\n",
       "       0.424, 0.454, 0.452, 0.482, 0.396, 0.452, 0.406, 0.448, 0.398,\n",
       "       0.454, 0.46 , 0.438, 0.434, 0.474, 0.436, 0.432, 0.472, 0.474,\n",
       "       0.474, 0.464, 0.47 , 0.454, 0.426, 0.466, 0.444, 0.456, 0.444,\n",
       "       0.472, 0.47 , 0.456, 0.428, 0.454, 0.442, 0.494, 0.44 , 0.476,\n",
       "       0.468])"
      ]
     },
     "execution_count": 59,
     "metadata": {},
     "output_type": "execute_result"
    }
   ],
   "source": [
    "# Extract the first sample of all 100 power traces\n",
    "df[\"Unnamed: 2\"]\n",
    "test = df[\"Unnamed: {x}\".format(x=str(2))].to_numpy()\n",
    "\n",
    "test"
   ]
  },
  {
   "cell_type": "code",
   "execution_count": 60,
   "id": "575ca5bd",
   "metadata": {},
   "outputs": [
    {
     "name": "stdout",
     "output_type": "stream",
     "text": [
      "No. of Traces: 100\n"
     ]
    },
    {
     "data": {
      "image/png": "[encoded data removed]",
      "text/plain": [
       "<Figure size 432x288 with 1 Axes>"
      ]
     },
     "metadata": {
      "needs_background": "light"
     },
     "output_type": "display_data"
    },
    {
     "name": "stdout",
     "output_type": "stream",
     "text": [
      "0.32335761228515586\n",
      "-0.28180999381100935\n"
     ]
    }
   ],
   "source": [
    "# Compute the correlation values for this first sample and print the highest value\n",
    "\n",
    "correlation_values = []\n",
    "\n",
    "for key_byte_guess in range(0,no_of_possible_values_of_key_byte):\n",
    "    model_trace = power_model_matrix[key_byte_guess]\n",
    "    corr_value = scipy.stats.pearsonr(df[\"Unnamed: 2\"].to_numpy(), model_trace)\n",
    "    correlation_values.append(corr_value[0])\n",
    "\n",
    "# Here, we are sorting the correlation values and identifying which key byte has the largest correlation for 1 sample\n",
    "\n",
    "sorting_order = np.argsort(correlation_values)\n",
    "sorting_order = sorting_order[::-1]\n",
    "\n",
    "#rank_of_correct_key_byte = np.where(sorting_order == correct_key_byte)\n",
    "\n",
    "print(\"No. of Traces: {}\".format(no_of_traces))\n",
    "#print(\"Rank of Correct Key Byte: {}\".format(rank_of_correct_key_byte[0]+1))\n",
    "\n",
    "plot.figure(1)\n",
    "\n",
    "x_index = []\n",
    "for i in range(0,no_of_possible_values_of_key_byte):\n",
    "  x_index.append(i)\n",
    "\n",
    "plot.plot(x_index,correlation_values)\n",
    "plot.show()\n",
    "\n",
    "print(max(correlation_values))\n",
    "print(min(correlation_values))"
   ]
  },
  {
   "cell_type": "markdown",
   "id": "0c6cf270",
   "metadata": {},
   "source": [
    "## Obtaining first byte of the key"
   ]
  },
  {
   "cell_type": "code",
   "execution_count": 61,
   "id": "0a3113c7",
   "metadata": {},
   "outputs": [],
   "source": [
    "# Compute the correlation values for all 2500 samples\n",
    "\n",
    "correlation_matrix = []\n",
    "correlation_values = []\n",
    "power_trace_len = 2500\n",
    "\n",
    "for power_trace_sample in range(0, power_trace_len):\n",
    "    for key_byte_guess in range(0,no_of_possible_values_of_key_byte):\n",
    "        model_trace = power_model_matrix[key_byte_guess]\n",
    "        corr_value = scipy.stats.pearsonr(df[\"Unnamed: {x}\".format(x=str(2 + power_trace_sample))].to_numpy(), model_trace)\n",
    "        correlation_values.append(corr_value[0])\n",
    "    \n",
    "    correlation_matrix.append(correlation_values)\n",
    "    correlation_values = []\n",
    "\n"
   ]
  },
  {
   "cell_type": "code",
   "execution_count": 92,
   "id": "885909de",
   "metadata": {},
   "outputs": [
    {
     "name": "stdout",
     "output_type": "stream",
     "text": [
      "The correlation matrix has a size of 2500 by 256\n"
     ]
    },
    {
     "data": {
      "image/png": "[encoded data removed]",
      "text/plain": [
       "<Figure size 432x288 with 1 Axes>"
      ]
     },
     "metadata": {
      "needs_background": "light"
     },
     "output_type": "display_data"
    },
    {
     "name": "stdout",
     "output_type": "stream",
     "text": [
      "The highest correlation coefficient is 0.5669688354292596. The corresponding key is 0x48\n"
     ]
    }
   ],
   "source": [
    "print(f\"The correlation matrix has a size of {len(correlation_matrix)} by {len(correlation_matrix[0])}\")\n",
    "\n",
    "max_val = 0\n",
    "highest_correlation_value_per_key = []\n",
    "\n",
    "sample_with_highest_corr_coeff = 0\n",
    "max_val2 = 0\n",
    "\n",
    "\n",
    "for i in range(256):\n",
    "    for j in range(2500):\n",
    "        if max_val < np.abs(correlation_matrix[j][i]):\n",
    "            max_val = np.abs(correlation_matrix[j][i])\n",
    "    highest_correlation_value_per_key.append(abs(max_val))\n",
    "    max_val = 0\n",
    "\n",
    "plot.figure(1)\n",
    "\n",
    "x_index = []\n",
    "for i in range(0,256):\n",
    "  x_index.append(i)\n",
    "\n",
    "plot.plot(x_index,highest_correlation_value_per_key)\n",
    "plot.show()\n",
    "\n",
    "for i in range(0, 256):\n",
    "    if max_val2 < np.abs(highest_correlation_value_per_key[i]):\n",
    "        max_val2 = np.abs(highest_correlation_value_per_key[i])\n",
    "        sample_with_highest_corr_coeff = i\n",
    "        \n",
    "print(f\"The highest correlation coefficient is {np.abs(max_val2)}. The corresponding key is {hex(sample_with_highest_corr_coeff)}\")"
   ]
  },
  {
   "cell_type": "markdown",
   "id": "12dac90c",
   "metadata": {},
   "source": [
    "## Alternative method to extract the first byte of the key\n",
    "- Find the highest correlation coefficient at each time instance\n",
    "- Identify the time instance whereby the highest correlation coeffcient lies\n",
    "- Identify the key that gave rise to the highest correlation coefficient"
   ]
  },
  {
   "cell_type": "code",
   "execution_count": 85,
   "id": "74aade60",
   "metadata": {},
   "outputs": [
    {
     "data": {
      "image/png": "[encoded data removed]",
      "text/plain": [
       "<Figure size 432x288 with 1 Axes>"
      ]
     },
     "metadata": {
      "needs_background": "light"
     },
     "output_type": "display_data"
    }
   ],
   "source": [
    "# Plot a graph to showcase the highest correlation values for each of the 2500 samples\n",
    "\n",
    "highest_correlation_value= []\n",
    "\n",
    "for i in range(0, 2500):\n",
    "    highest_correlation_value.append(max(correlation_matrix[i]))\n",
    "\n",
    "plot.figure(1)\n",
    "\n",
    "x_index = []\n",
    "for i in range(0,2500):\n",
    "  x_index.append(i)\n",
    "\n",
    "plot.plot(x_index,highest_correlation_value)\n",
    "plot.show()\n",
    "\n"
   ]
  },
  {
   "cell_type": "code",
   "execution_count": 86,
   "id": "7faf8cc4",
   "metadata": {},
   "outputs": [
    {
     "name": "stdout",
     "output_type": "stream",
     "text": [
      "The highest correlation value is 0.5669688354292596, which is present at sample 513\n"
     ]
    }
   ],
   "source": [
    "# Obtain the time period with the highest correlation value\n",
    "\n",
    "max_value = 0\n",
    "sample_number = 0\n",
    "\n",
    "for i in range(0, 2500):\n",
    "    if max_value < max(np.abs(correlation_matrix[i])):\n",
    "        max_value = max(np.abs(correlation_matrix[i]))\n",
    "        sample_number = i\n",
    "\n",
    "\n",
    "print(f\"The highest correlation value is {max(correlation_matrix[sample_number])}, which is present at sample {sample_number}\")"
   ]
  },
  {
   "cell_type": "code",
   "execution_count": 87,
   "id": "a4bd117b",
   "metadata": {},
   "outputs": [
    {
     "name": "stdout",
     "output_type": "stream",
     "text": [
      "No. of Traces: 100\n"
     ]
    },
    {
     "data": {
      "image/png": "[encoded data removed]",
      "text/plain": [
       "<Figure size 432x288 with 1 Axes>"
      ]
     },
     "metadata": {
      "needs_background": "light"
     },
     "output_type": "display_data"
    },
    {
     "name": "stdout",
     "output_type": "stream",
     "text": [
      "The highest correlation value is: 0.5669688354292596\n",
      "The key value at which this occurs is at: 0x48\n"
     ]
    }
   ],
   "source": [
    "\n",
    "correlation_values = []\n",
    "\n",
    "for key_byte_guess in range(0,no_of_possible_values_of_key_byte):\n",
    "    model_trace = power_model_matrix[key_byte_guess]\n",
    "    corr_value = scipy.stats.pearsonr(df[\"Unnamed: {x}\".format(x=str(2 + sample_number))].to_numpy(), model_trace)\n",
    "    correlation_values.append(corr_value[0])\n",
    "\n",
    "# Here, we are sorting the correlation values and identifying which key byte has the largest correlation for 1 sample\n",
    "\n",
    "sorting_order = np.argsort(correlation_values)\n",
    "sorting_order = sorting_order[::-1]\n",
    "\n",
    "#rank_of_correct_key_byte = np.where(sorting_order == correct_key_byte)\n",
    "\n",
    "print(\"No. of Traces: {}\".format(no_of_traces))\n",
    "#print(\"Rank of Correct Key Byte: {}\".format(rank_of_correct_key_byte[0]+1))\n",
    "\n",
    "plot.figure(1)\n",
    "\n",
    "x_index = []\n",
    "for i in range(0,no_of_possible_values_of_key_byte):\n",
    "  x_index.append(i)\n",
    "\n",
    "plot.plot(x_index,correlation_values)\n",
    "plot.show()\n",
    "\n",
    "\n",
    "print(f\"The highest correlation value is: {max(correlation_values)}\")\n",
    "print(f\"The key value at which this occurs is at: {hex(correlation_values.index(max(correlation_values)))}\")"
   ]
  },
  {
   "cell_type": "code",
   "execution_count": 88,
   "id": "f9f6ce7a",
   "metadata": {},
   "outputs": [
    {
     "name": "stdout",
     "output_type": "stream",
     "text": [
      "Therefore, the first byte of the key is 0x48\n"
     ]
    }
   ],
   "source": [
    "print(f\"Therefore, the first byte of the key is {hex(correlation_values.index(max(correlation_values)))}\")"
   ]
  }
 ],
 "metadata": {
  "kernelspec": {
   "display_name": "base",
   "language": "python",
   "name": "python3"
  },
  "language_info": {
   "codemirror_mode": {
    "name": "ipython",
    "version": 3
   },
   "file_extension": ".py",
   "mimetype": "text/x-python",
   "name": "python",
   "nbconvert_exporter": "python",
   "pygments_lexer": "ipython3",
   "version": "3.8.5"
  }
 },
 "nbformat": 4,
 "nbformat_minor": 5
}
